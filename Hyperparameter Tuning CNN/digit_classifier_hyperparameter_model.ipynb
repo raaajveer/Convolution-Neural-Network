{
 "cells": [
  {
   "cell_type": "markdown",
   "id": "6150d969",
   "metadata": {},
   "source": [
    "# EDA"
   ]
  },
  {
   "cell_type": "markdown",
   "id": "57f72ba0",
   "metadata": {},
   "source": [
    "import pandas as pd\n",
    "data = pd.read_csv(\"train.csv\")\n",
    "data.head()"
   ]
  },
  {
   "cell_type": "code",
   "execution_count": 8,
   "id": "6f1e4d5c",
   "metadata": {},
   "outputs": [],
   "source": [
    "x = data.drop(labels= [\"label\"], axis= 1)\n",
    "y = data[\"label\"]"
   ]
  },
  {
   "cell_type": "code",
   "execution_count": 14,
   "id": "69e73c5a",
   "metadata": {},
   "outputs": [],
   "source": [
    "from sklearn.model_selection import train_test_split\n",
    "x_train, x_test, y_train, y_test = train_test_split(x, y, test_size = 0.2, random_state = True)"
   ]
  },
  {
   "cell_type": "code",
   "execution_count": 18,
   "id": "ea87923d",
   "metadata": {},
   "outputs": [
    {
     "data": {
      "text/plain": [
       "((33600, 784), (33600,), (8400, 784), (8400,))"
      ]
     },
     "execution_count": 18,
     "metadata": {},
     "output_type": "execute_result"
    }
   ],
   "source": [
    "x_train.shape, y_train.shape, x_test.shape, y_test.shape"
   ]
  },
  {
   "cell_type": "code",
   "execution_count": 19,
   "id": "6845b988",
   "metadata": {},
   "outputs": [],
   "source": [
    "x_train = x_train.to_numpy()\n",
    "y_train = y_train.to_numpy()\n",
    "x_test = x_test.to_numpy()\n",
    "y_test = y_test.to_numpy()"
   ]
  },
  {
   "cell_type": "code",
   "execution_count": 20,
   "id": "b37a9034",
   "metadata": {},
   "outputs": [],
   "source": [
    "x_train = x_train.reshape(-1,28,28,1)\n",
    "x_test = x_test.reshape(-1,28,28,1)"
   ]
  },
  {
   "cell_type": "code",
   "execution_count": 29,
   "id": "370e1e4f",
   "metadata": {},
   "outputs": [
    {
     "data": {
      "text/plain": [
       "Text(0.5, 1.0, '7')"
      ]
     },
     "execution_count": 29,
     "metadata": {},
     "output_type": "execute_result"
    },
    {
     "data": {
      "image/png": "[encoded data removed]",
      "text/plain": [
       "<Figure size 432x288 with 1 Axes>"
      ]
     },
     "metadata": {
      "needs_background": "light"
     },
     "output_type": "display_data"
    }
   ],
   "source": [
    "from matplotlib import pyplot as plt\n",
    "plt.imshow(x_train[34])\n",
    "plt.title(y_train[34])"
   ]
  },
  {
   "cell_type": "markdown",
   "id": "2f31d768",
   "metadata": {},
   "source": [
    "# Hyperparameter Function "
   ]
  },
  {
   "cell_type": "code",
   "execution_count": 47,
   "id": "13986671",
   "metadata": {},
   "outputs": [],
   "source": [
    "from keras.models import Sequential\n",
    "from keras.layers import Dense, Activation, Dropout, Conv2D, MaxPooling2D, Flatten"
   ]
  },
  {
   "cell_type": "code",
   "execution_count": 48,
   "id": "f6aaf9b6",
   "metadata": {},
   "outputs": [],
   "source": [
    "def build_model(hp):\n",
    "    model = Sequential()\n",
    "    model.add(Conv2D(\n",
    "        filters = hp.Int(\"conv_1_filter\", min_value = 32, max_value = 128, step = 16), \n",
    "        kernel_size = hp.Choice(\"conv_1_kernel\", values = [2,3,4]),\n",
    "        activation = \"relu\", \n",
    "        input_shape = (28,28,1)\n",
    "    ))\n",
    "    \n",
    "    model.add(Flatten())\n",
    "    \n",
    "    model.add(Dense(\n",
    "        units = hp.Int(\"dense_1_units\", min_value = 10, max_value = 100, step = 20),\n",
    "        activation = \"sigmoid\"\n",
    "    ))\n",
    "    \n",
    "    model.add(Dense(\n",
    "        units = 10,\n",
    "        activation = \"sigmoid\"\n",
    "    ))\n",
    "    \n",
    "    model.compile(optimizer = \"adam\", loss = \"sparse_categorical_crossentropy\", metrics = [\"accuracy\"])\n",
    "    \n",
    "    return model"
   ]
  },
  {
   "cell_type": "markdown",
   "id": "189b0d7c",
   "metadata": {},
   "source": [
    "# Model Checking and Searching best parameters"
   ]
  },
  {
   "cell_type": "code",
   "execution_count": 49,
   "id": "4c95bff8",
   "metadata": {},
   "outputs": [
    {
     "data": {
      "text/plain": [
       "<keras.engine.sequential.Sequential at 0x2322a2856f0>"
      ]
     },
     "execution_count": 49,
     "metadata": {},
     "output_type": "execute_result"
    }
   ],
   "source": [
    "# Checking Whether the Model Works!\n",
    "import keras_tuner as kt\n",
    "build_model(kt.HyperParameters())"
   ]
  },
  {
   "cell_type": "code",
   "execution_count": 51,
   "id": "def4da8f",
   "metadata": {},
   "outputs": [
    {
     "name": "stdout",
     "output_type": "stream",
     "text": [
      "Trial 3 Complete [00h 01m 36s]\n",
      "accuracy: 0.8995237946510315\n",
      "\n",
      "Best accuracy So Far: 0.9389285445213318\n",
      "Total elapsed time: 00h 06m 52s\n",
      "INFO:tensorflow:Oracle triggered exit\n"
     ]
    }
   ],
   "source": [
    "from keras_tuner import RandomSearch\n",
    "tuner_search = RandomSearch(build_model, objective = \"accuracy\", max_trials = 3, directory = \"my_dir\", project_name = \"CNN_HP\")\n",
    "tuner_search.search(x_train, y_train, epochs = 3)"
   ]
  },
  {
   "cell_type": "code",
   "execution_count": 56,
   "id": "1e0332ce",
   "metadata": {},
   "outputs": [
    {
     "name": "stdout",
     "output_type": "stream",
     "text": [
      "WARNING:tensorflow:Detecting that an object or model or tf.train.Checkpoint is being deleted with unrestored values. See the following logs for the specific values in question. To silence these warnings, use `status.expect_partial()`. See https://www.tensorflow.org/api_docs/python/tf/train/Checkpoint#restorefor details about the status object returned by the restore function.\n",
      "WARNING:tensorflow:Value in checkpoint could not be found in the restored object: (root).optimizer.iter\n",
      "WARNING:tensorflow:Value in checkpoint could not be found in the restored object: (root).optimizer.beta_1\n",
      "WARNING:tensorflow:Value in checkpoint could not be found in the restored object: (root).optimizer.beta_2\n",
      "WARNING:tensorflow:Value in checkpoint could not be found in the restored object: (root).optimizer.decay\n",
      "WARNING:tensorflow:Value in checkpoint could not be found in the restored object: (root).optimizer.learning_rate\n",
      "Model: \"sequential\"\n",
      "_________________________________________________________________\n",
      " Layer (type)                Output Shape              Param #   \n",
      "=================================================================\n",
      " conv2d (Conv2D)             (None, 25, 25, 96)        1632      \n",
      "                                                                 \n",
      " flatten (Flatten)           (None, 60000)             0         \n",
      "                                                                 \n",
      " dense (Dense)               (None, 90)                5400090   \n",
      "                                                                 \n",
      " dense_1 (Dense)             (None, 10)                910       \n",
      "                                                                 \n",
      "=================================================================\n",
      "Total params: 5,402,632\n",
      "Trainable params: 5,402,632\n",
      "Non-trainable params: 0\n",
      "_________________________________________________________________\n"
     ]
    }
   ],
   "source": [
    "best_model = tuner_search.get_best_models(num_models = 1)[0]\n",
    "best_model.summary()"
   ]
  },
  {
   "cell_type": "markdown",
   "id": "282f4226",
   "metadata": {},
   "source": [
    "# Training model using Best parameters and Testing Accuracy"
   ]
  },
  {
   "cell_type": "code",
   "execution_count": 58,
   "id": "464cb520",
   "metadata": {
    "scrolled": true
   },
   "outputs": [
    {
     "name": "stdout",
     "output_type": "stream",
     "text": [
      "Epoch 1/10\n",
      "1050/1050 [==============================] - 66s 62ms/step - loss: 0.1705 - accuracy: 0.9486\n",
      "Epoch 2/10\n",
      "1050/1050 [==============================] - 64s 61ms/step - loss: 0.1708 - accuracy: 0.9485\n",
      "Epoch 3/10\n",
      "1050/1050 [==============================] - 66s 63ms/step - loss: 0.1859 - accuracy: 0.9443\n",
      "Epoch 4/10\n",
      "1050/1050 [==============================] - 296s 282ms/step - loss: 0.1540 - accuracy: 0.9527\n",
      "Epoch 5/10\n",
      "1050/1050 [==============================] - 68s 64ms/step - loss: 0.1692 - accuracy: 0.9481\n",
      "Epoch 6/10\n",
      "1050/1050 [==============================] - 64s 61ms/step - loss: 0.1777 - accuracy: 0.9452\n",
      "Epoch 7/10\n",
      "1050/1050 [==============================] - 64s 61ms/step - loss: 0.2071 - accuracy: 0.9372\n",
      "Epoch 8/10\n",
      "1050/1050 [==============================] - 64s 61ms/step - loss: 0.1861 - accuracy: 0.9433\n",
      "Epoch 9/10\n",
      "1050/1050 [==============================] - 64s 61ms/step - loss: 0.1702 - accuracy: 0.9474\n",
      "Epoch 10/10\n",
      "1050/1050 [==============================] - 64s 61ms/step - loss: 0.1567 - accuracy: 0.9513\n"
     ]
    },
    {
     "data": {
      "text/plain": [
       "<keras.callbacks.History at 0x23221b3d600>"
      ]
     },
     "execution_count": 58,
     "metadata": {},
     "output_type": "execute_result"
    }
   ],
   "source": [
    "best_model.fit(x_train, y_train, epochs = 10)"
   ]
  },
  {
   "cell_type": "code",
   "execution_count": 60,
   "id": "693c0483",
   "metadata": {},
   "outputs": [
    {
     "name": "stdout",
     "output_type": "stream",
     "text": [
      "263/263 [==============================] - 4s 15ms/step - loss: 0.1646 - accuracy: 0.9493\n"
     ]
    }
   ],
   "source": [
    "score = best_model.evaluate(x_test, y_test)"
   ]
  },
  {
   "cell_type": "code",
   "execution_count": 61,
   "id": "d12faacc",
   "metadata": {},
   "outputs": [
    {
     "name": "stdout",
     "output_type": "stream",
     "text": [
      "Accuracy of the CNN Model: 94.92856860160828 %\n"
     ]
    }
   ],
   "source": [
    "print(\"Accuracy of the CNN Model:\", score[1] * 100, \"%\")"
   ]
  },
  {
   "cell_type": "code",
   "execution_count": null,
   "id": "e293a506",
   "metadata": {},
   "outputs": [],
   "source": []
  }
 ],
 "metadata": {
  "kernelspec": {
   "display_name": "Python 3 (ipykernel)",
   "language": "python",
   "name": "python3"
  },
  "language_info": {
   "codemirror_mode": {
    "name": "ipython",
    "version": 3
   },
   "file_extension": ".py",
   "mimetype": "text/x-python",
   "name": "python",
   "nbconvert_exporter": "python",
   "pygments_lexer": "ipython3",
   "version": "3.10.4"
  }
 },
 "nbformat": 4,
 "nbformat_minor": 5
}
