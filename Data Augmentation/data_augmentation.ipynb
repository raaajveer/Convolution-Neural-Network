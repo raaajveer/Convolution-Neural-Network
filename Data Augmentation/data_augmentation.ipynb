{
 "cells": [
  {
   "cell_type": "code",
   "execution_count": 3,
   "id": "249f0136",
   "metadata": {},
   "outputs": [],
   "source": [
    "from keras.preprocessing.image import ImageDataGenerator, img_to_array, load_img\n",
    "datagen = ImageDataGenerator(rotation_range = 40,\n",
    "                             width_shift_range = 0.2,\n",
    "                             height_shift_range = 0.2,\n",
    "                             zoom_range = 0.2,\n",
    "                             shear_range = 0.2,\n",
    "                             horizontal_flip = True,\n",
    "                             vertical_flip = False\n",
    "                            )"
   ]
  },
  {
   "cell_type": "code",
   "execution_count": 12,
   "id": "04e95979",
   "metadata": {},
   "outputs": [
    {
     "data": {
      "text/plain": [
       "(1, 183, 275, 3)"
      ]
     },
     "execution_count": 12,
     "metadata": {},
     "output_type": "execute_result"
    }
   ],
   "source": [
    "img = load_img(\"dog_image.jpg\")\n",
    "x = img_to_array(img)\n",
    "x = x.reshape((1,) + x.shape)   # Here image created is an image of (1,3,150,150)\n",
    "x.shape"
   ]
  },
  {
   "cell_type": "code",
   "execution_count": 18,
   "id": "22d2dab3",
   "metadata": {},
   "outputs": [],
   "source": [
    "i=0\n",
    "for batch in datagen.flow(x, batch_size = 1, save_to_dir = \"generated_images\", save_prefix = \"dog\",save_format = \"jpeg\"):\n",
    "    i += 1\n",
    "    if i>20:\n",
    "        break"
   ]
  },
  {
   "cell_type": "code",
   "execution_count": null,
   "id": "0a4b0f57",
   "metadata": {},
   "outputs": [],
   "source": []
  }
 ],
 "metadata": {
  "kernelspec": {
   "display_name": "Python 3",
   "language": "python",
   "name": "python3"
  },
  "language_info": {
   "codemirror_mode": {
    "name": "ipython",
    "version": 3
   },
   "file_extension": ".py",
   "mimetype": "text/x-python",
   "name": "python",
   "nbconvert_exporter": "python",
   "pygments_lexer": "ipython3",
   "version": "3.9.5"
  }
 },
 "nbformat": 4,
 "nbformat_minor": 5
}
